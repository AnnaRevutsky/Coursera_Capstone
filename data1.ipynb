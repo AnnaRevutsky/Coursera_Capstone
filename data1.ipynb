{
 "cells": [
  {
   "cell_type": "markdown",
   "metadata": {},
   "source": [
    "### 2. Data acquisition and cleaning"
   ]
  },
  {
   "cell_type": "markdown",
   "metadata": {},
   "source": [
    "#### 2.1 Data source"
   ]
  },
  {
   "cell_type": "markdown",
   "metadata": {},
   "source": [
    "The dataset which was used in this project has been taken from coursera cloud storage (<a href=\"https://s3.us.cloud-object-storage.appdomain.cloud/cf-courses-data/CognitiveClass/DP0701EN/version-2/Data-Collisions.csv\">Data-Collisions.csv</a>). Which consist of label column accident \" severity\" in terms of human fatality,property damage accident bad impact and many observations (rows) and various attributes (columns) as weather,road and light conditions,collision address type,total number of people involved in the collision,geocoordinates etc. The data set has .CSV format and contains data in term  2004/01/01 to 2020/05/20. Here is an instant dataset example below.\n",
    "![](https://raw.githubusercontent.com/AnnaRevutsky/Coursera_Capstone/master/images/instant%20dataset.png)"
   ]
  },
  {
   "cell_type": "markdown",
   "metadata": {},
   "source": [
    "#### 2.2 Data cleaning"
   ]
  },
  {
   "cell_type": "markdown",
   "metadata": {},
   "source": [
    "The instant dataset included 192031 rows. There were a lot of missing values because of lack of record keeping. I decided to remove missing values in subsets: 'X', 'ADDRTYPE', 'LOCATION', 'ST_COLDESC', 'ST_COLCODE', 'LIGHTCOND', 'ROADCOND', 'WEATHER', 'UNDERINFL', 'JUNCTIONTYPE', 'COLLISIONTYPE'. Also I removed from the subsets 'LIGHTCOND', 'ROADCOND','WEATHER','JUNCTIONTYPE' rows with 'Unknown' values. And my new dataset contains 165186 rows. I removed tne next columns: 'INTKEY', 'SDOTCOLNUM', 'SEVERITYCODE.1', 'EXCEPTRSNDESC', 'EXCEPTRSNCODE', 'OBJECTID'. I dropped 'INTKEY' - Key that corresponds to the intersection associated with a collision, because we have coordinates of collision geolocation ('X','Y') and collision address type ('ADDRTYPE'). 'SDOTCOLNUM': a number given to the collision by SDOT - I don't use this data as is. I deleted the column'SEVERITYCODE.1' because we already have the column 'SEVERITYCODE'. Also data from 'EXCEPTRSNCODE' and 'EXCEPTRSNDESC' didn't give me useful information so I removed it. I dropped 'OBJECTID', because we have a unique key for the incident ('INCKEY'). There was 'UNDERINFL' column with different data, where I replaced Yes/No with 1/0, and converted everything to integer. The columns 'PERSONCOUNT', 'PEDCOUNT', 'PEDCYLCOUNT', 'VEHCOUNT' I've cutted to bins with the names 'Low', 'Medium', 'High' to see how many collisions occured without involved pedestrians, collisions with bycicles, etc. Below is the example of 'PERSONCOUNT' column binning:\n",
    "\n",
    "![](https://raw.githubusercontent.com/AnnaRevutsky/Coursera_Capstone/master/images/binning%20example.png)"
   ]
  },
  {
   "cell_type": "markdown",
   "metadata": {},
   "source": [
    "#### 2.3 Feature selection"
   ]
  },
  {
   "cell_type": "markdown",
   "metadata": {},
   "source": [
    "After data cleaning, there were 165.186 samples and 32 features in the data. Upon examining the\n",
    "meaning of each feature, it was clear that there was some redundancy in the features.For\n",
    "example, there was a feature of the collision geocoordinates and collision address type and description of the general location of the collision. These two features contained very similar information. There were other redundancies, such as date of the incident and the date and time of the incident,'SDOT_COLCODE','ST_COLCODE' and their descriptio,'INCKEY'and 'COLDETKEY'. The feature 'STATUS' doesn't reflect any worthy data.The features speeding and innatention condition had no sufficient data.I decided to drop features listed above. After discarding redundant features, I inspected the correlation of independent variables, and found several pairs that were highly correlated (Pearson correlation coefficient > 0.9). For example, COLLISION TYPE and severity of collision, LIGHT CONDITION and severity of collision were highly correlated.After all, 17 features were selected."
   ]
  },
  {
   "cell_type": "code",
   "execution_count": null,
   "metadata": {},
   "outputs": [],
   "source": []
  }
 ],
 "metadata": {
  "kernelspec": {
   "display_name": "Python",
   "language": "python",
   "name": "conda-env-python-py"
  },
  "language_info": {
   "codemirror_mode": {
    "name": "ipython",
    "version": 3
   },
   "file_extension": ".py",
   "mimetype": "text/x-python",
   "name": "python",
   "nbconvert_exporter": "python",
   "pygments_lexer": "ipython3",
   "version": "3.6.11"
  }
 },
 "nbformat": 4,
 "nbformat_minor": 4
}
