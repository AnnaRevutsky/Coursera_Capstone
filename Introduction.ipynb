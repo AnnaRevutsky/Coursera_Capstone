{
 "cells": [
  {
   "cell_type": "markdown",
   "metadata": {},
   "source": [
    " <div style=\"text-align: center\"> <h1> Prediction of traffic collision severity </h1> </div> "
   ]
  },
  {
   "cell_type": "markdown",
   "metadata": {},
   "source": [
    "### 1. Introduction"
   ]
  },
  {
   "cell_type": "markdown",
   "metadata": {},
   "source": [
    "#### 1.1 Background"
   ]
  },
  {
   "cell_type": "markdown",
   "metadata": {},
   "source": [
    "Car accidents are one of the most common hazards we all face in daily life. From minor fender-benders to catastrophic, multi-car pileups, getting into an accident in a motor vehicle can end a life or change it forever.\n",
    "For example the Seattle Department of Transportation’s annual traffic report illustrates the constant challenge to city posed by car accidents. In 2017, Seattle police reported 10,959 motor vehicle collisions on city streets. According to the report, in 2017 there were a total of 187 fatal and serious injury collisions on Seattle streets. Data available from the Washington State Department of Transportation (WSDOT) reflect an even worse tally in 2018, with 212 crashes that resulted in serious injury or wrongful death.\n",
    "The effective treatment of road accidents and thus the enhancement of road safety is a major concern to societies\n",
    "due to the losses in human lives and the economic and social costs. Tremendous efforts have been dedicated by\n",
    "transportation researchers and practitioners to improve road safety. \n",
    "Accident severity is therefore an issue which has gained the attention of many researchers so far.\n",
    "Al-Ghamdi (2002), used logistic regression and found that crash location (intersection, non-intersection) and\n",
    "cause of accident (speed, running a red light, wrong way violation, etc.) significantly influence road accident\n",
    "severity.In such a way it's advantageous for humans to accurately\n",
    "predict possibility and severy of car incidents,so he/she would drive more carefully or even change her/his travel. \n"
   ]
  },
  {
   "cell_type": "markdown",
   "metadata": {},
   "source": [
    "#### 1.2 Problem"
   ]
  },
  {
   "cell_type": "markdown",
   "metadata": {},
   "source": [
    "Car accidents happen for a host of reasons, including behavioral, environmental, and situational. A small number of car accidents are inevitable and can’t be prevented. Most of them, however, could at least be prevented, and many result from poor decisions by someone who should have done better. Among the most common human-related causes of car accidents are: alcohol and drug impairment, driver distraction, speeding. All factors described above impact on collisions severity and the present project aims to predict road accident severity and possibility in Seattle."
   ]
  },
  {
   "cell_type": "markdown",
   "metadata": {},
   "source": [
    "#### 1.3 Target audience"
   ]
  },
  {
   "cell_type": "markdown",
   "metadata": {},
   "source": [
    "Transportation and logistics companies, people who travel by car, taxi drivers, ordinary car drivers would be very interested in accurate prediction of collissions severity and probability prediction. Also this prediction could be used in driver support systems to help prevent accidents. If all these people would know probability and severity of collisions on thier path they could postpone their journeys, or would drive much carefully."
   ]
  },
  {
   "cell_type": "code",
   "execution_count": null,
   "metadata": {},
   "outputs": [],
   "source": []
  }
 ],
 "metadata": {
  "kernelspec": {
   "display_name": "Python",
   "language": "python",
   "name": "conda-env-python-py"
  },
  "language_info": {
   "codemirror_mode": {
    "name": "ipython",
    "version": 3
   },
   "file_extension": ".py",
   "mimetype": "text/x-python",
   "name": "python",
   "nbconvert_exporter": "python",
   "pygments_lexer": "ipython3",
   "version": "3.6.11"
  }
 },
 "nbformat": 4,
 "nbformat_minor": 4
}
