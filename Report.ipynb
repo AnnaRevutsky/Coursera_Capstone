{
 "cells": [
  {
   "cell_type": "markdown",
   "metadata": {},
   "source": [
    " <div style=\"text-align: center\"> <h1> Prediction of traffic collision severity </h1> </div> "
   ]
  },
  {
   "cell_type": "markdown",
   "metadata": {},
   "source": [
    "### 1. Introduction"
   ]
  },
  {
   "cell_type": "markdown",
   "metadata": {},
   "source": [
    "#### 1.1 Background"
   ]
  },
  {
   "cell_type": "markdown",
   "metadata": {},
   "source": [
    "Car accidents are one of the most common hazards we all face in daily life. From minor fender-benders to catastrophic, multi-car pileups, getting into an accident in a motor vehicle can end a life or change it forever.\n",
    "For example the Seattle Department of Transportation’s annual traffic report illustrates the constant challenge to city posed by car accidents. In 2017, Seattle police reported 10,959 motor vehicle collisions on city streets. According to the report, in 2017 there were a total of 187 fatal and serious injury collisions on Seattle streets. Data available from the Washington State Department of Transportation (WSDOT) reflect an even worse tally in 2018, with 212 crashes that resulted in serious injury or wrongful death.\n",
    "The effective treatment of road accidents and thus the enhancement of road safety is a major concern to societies\n",
    "due to the losses in human lives and the economic and social costs. Tremendous efforts have been dedicated by\n",
    "transportation researchers and practitioners to improve road safety. \n",
    "Accident severity is therefore an issue which has gained the attention of many researchers so far.\n",
    "Al-Ghamdi (2002), used logistic regression and found that crash location (intersection, non-intersection) and\n",
    "cause of accident (speed, running a red light, wrong way violation, etc.) significantly influence road accident\n",
    "severity.In such a way it's advantageous for humans to accurately\n",
    "predict possibility and severy of car incidents,so he/she would drive more carefully or even change her/his travel. \n"
   ]
  },
  {
   "cell_type": "markdown",
   "metadata": {},
   "source": [
    "#### 1.2 Problem"
   ]
  },
  {
   "cell_type": "markdown",
   "metadata": {},
   "source": [
    "Car accidents happen for a host of reasons, including behavioral, environmental, and situational. A small number of car accidents are inevitable and can’t be prevented. Most of them, however, could at least be prevented, and many result from poor decisions by someone who should have done better. Among the most common human-related causes of car accidents are: alcohol and drug impairment, driver distraction, speeding. All factors described above impact on collisions severity and the present project aims to predict road accident severity and possibility in Seattle."
   ]
  },
  {
   "cell_type": "markdown",
   "metadata": {},
   "source": [
    "#### 1.3 Target audience"
   ]
  },
  {
   "cell_type": "markdown",
   "metadata": {},
   "source": [
    "Transportation and logistics companies, people who travel by car, taxi drivers, ordinary car drivers would be very interested in accurate prediction of collissions severity and probability prediction. Also this prediction could be used in driver support systems to help prevent accidents. If all these people would know probability and severity of collisions on thier path they could postpone their journeys, or would drive much carefully."
   ]
  },
  {
   "cell_type": "markdown",
   "metadata": {},
   "source": [
    "### 2. Data acquisition and cleaning"
   ]
  },
  {
   "cell_type": "markdown",
   "metadata": {},
   "source": [
    "#### 2.1 Data source"
   ]
  },
  {
   "cell_type": "markdown",
   "metadata": {},
   "source": [
    "The dataset which was used in this project has been taken from coursera cloud storage (<a href=\"https://s3.us.cloud-object-storage.appdomain.cloud/cf-courses-data/CognitiveClass/DP0701EN/version-2/Data-Collisions.csv\">Data-Collisions.csv</a>). Which consist of label column accident \" severity\" in terms of human fatality,property damage accident bad impact and many observations (rows) and various attributes (columns) as weather,road and light conditions,collision address type,total number of people involved in the collision,geocoordinates etc. The data set has .CSV format and contains data in term  2004/01/01 to 2020/05/20. Here is an instant dataset example below (Figure 1).\n",
    "![](https://raw.githubusercontent.com/AnnaRevutsky/Coursera_Capstone/master/images/instant%20dataset.png)"
   ]
  },
  {
   "cell_type": "markdown",
   "metadata": {},
   "source": [
    "<div style=\"text-align: center\"> <text> Figure 1. The instant dataset </text> </div>"
   ]
  },
  {
   "cell_type": "markdown",
   "metadata": {},
   "source": [
    "#### 2.2 Data cleaning"
   ]
  },
  {
   "cell_type": "markdown",
   "metadata": {},
   "source": [
    "The instant dataset included 192031 rows. There were a lot of missing values because of lack of record keeping. I decided to remove missing values in subsets: 'X', 'ADDRTYPE', 'LOCATION', 'ST_COLDESC', 'ST_COLCODE', 'LIGHTCOND', 'ROADCOND', 'WEATHER', 'UNDERINFL', 'JUNCTIONTYPE', 'COLLISIONTYPE'. Also I removed from the subsets 'LIGHTCOND', 'ROADCOND','WEATHER','JUNCTIONTYPE' rows with 'Unknown' values. And my new dataset contains 165186 rows. I removed tne next columns: 'INTKEY', 'SDOTCOLNUM', 'SEVERITYCODE.1', 'EXCEPTRSNDESC', 'EXCEPTRSNCODE', 'OBJECTID'. I dropped 'INTKEY' - Key that corresponds to the intersection associated with a collision, because we have coordinates of collision geolocation ('X','Y') and collision address type ('ADDRTYPE'). 'SDOTCOLNUM': a number given to the collision by SDOT - I don't use this data as is. I deleted the column'SEVERITYCODE.1' because we already have the column 'SEVERITYCODE'. Also data from 'EXCEPTRSNCODE' and 'EXCEPTRSNDESC' didn't give me useful information so I removed it. I dropped 'OBJECTID', because we have a unique key for the incident ('INCKEY'). There was 'UNDERINFL' column with different data, where I replaced Yes/No with 1/0, and converted everything to integer. The columns 'PERSONCOUNT', 'PEDCOUNT', 'PEDCYLCOUNT', 'VEHCOUNT' I've cutted to bins with the names 'Low', 'Medium', 'High' to see how many collisions occured without involved pedestrians, collisions with bycicles, etc. Below is the example of 'PERSONCOUNT' column binning (Figure 2):\n",
    "\n",
    "![](https://raw.githubusercontent.com/AnnaRevutsky/Coursera_Capstone/master/images/binning%20example.png)\n",
    "\n"
   ]
  },
  {
   "cell_type": "markdown",
   "metadata": {},
   "source": [
    "<div style=\"text-align: center\"> <text> Figure 2. Binning  </text> </div>"
   ]
  },
  {
   "cell_type": "markdown",
   "metadata": {},
   "source": [
    "#### 2.3 Feature selection"
   ]
  },
  {
   "cell_type": "markdown",
   "metadata": {},
   "source": [
    "After data cleaning, there were 27 908 samples and 32 features in the data. Upon examining the\n",
    "meaning of each feature, it was clear that there was some redundancy in the features.For\n",
    "example, there was a feature of the collision geocoordinates and collision address type and description of the general location of the collision. These two features contained very similar information. There were other redundancies, such as date of the incident and the date and time of the incident,'SDOT_COLCODE','ST_COLCODE' and their descriptio,'INCKEY'and 'COLDETKEY'. The feature 'STATUS' doesn't reflect any worthy data.The features speeding and innatention condition had no sufficient data.I decided to drop features listed above. After discarding redundant features, I inspected the correlation of independent variables, and found several pairs that were highly correlated (Pearson correlation coefficient > 0.9). For example, COLLISION TYPE and severity of collision, LIGHT CONDITION and severity of collision were highly correlated.After all, 16 features were selected (Table 1)."
   ]
  },
  {
   "cell_type": "markdown",
   "metadata": {},
   "source": [
    "Table 1. Simple feature selection during data cleaning."
   ]
  },
  {
   "cell_type": "markdown",
   "metadata": {},
   "source": [
    "Kept features| Dropped features | Reason for dropping features\n",
    "--- | --- | ---\n",
    "SEVERITYCODE, 'X', 'Y' | INCKEY, COLDETKEY, REPORTNO, STATUS| Don't bring any useful information for data analyse\n",
    "ADDRTYPE, COLLISIONTYPE,JUNCTIONTYPE| LOCATION, SEVERITYDESC, SDOT_COLCODE, SDOT_COLDESC, ST_COLCODE, ST_COLDESC| Slightly different features\n",
    "PERSONCOUNT, PEDCOUNT, PEDCYLCOUNT, VEHCOUNT, UNDERINFL| PEDROWNOTGRNT, SPEEDING, SEGLANEKEY, CROSSWALKKEY| Some data are overlapping\n",
    "WEATHER, ROADCOND, LIGHTCOND, HITPARKEDCAR,INCDTTM| INCDATE, INATTENTIONIND| Similar features\n"
   ]
  },
  {
   "cell_type": "markdown",
   "metadata": {},
   "source": [
    "### 3. Exploratory Data Analysis"
   ]
  },
  {
   "cell_type": "markdown",
   "metadata": {},
   "source": [
    "#### 3.1 Calculation of target variable"
   ]
  },
  {
   "cell_type": "markdown",
   "metadata": {},
   "source": [
    "Collisions severity it was a feature in the dataset. I explored the dataset contains collisions severity has two codes (1 - property damage, 2 - injuries). Counting frequency of these unique codes I discovered that collisions with property damage prevail above the others. Also I considered distributions severity collisions on days and address type (Figure 1). As we see that the number of collisions occured on blocks exceeds collisions occured on intersections by more than two times and number of all collisions reduces on the weekend and increases on 5-th week day. On intersections most of collisions occure with injuries, while on blocks such severe collisions happen in 50% of cases (Figure 3).\n"
   ]
  },
  {
   "cell_type": "markdown",
   "metadata": {},
   "source": [
    "![](https://raw.githubusercontent.com/AnnaRevutsky/Coursera_Capstone/master/images/Figure%203.png)"
   ]
  },
  {
   "cell_type": "markdown",
   "metadata": {},
   "source": [
    "<div style=\"text-align: center\"> <text> Figure 3. Collisions distribution </text> </div>"
   ]
  },
  {
   "cell_type": "markdown",
   "metadata": {},
   "source": [
    "#### 3.2 Relationship between light conditions and collision types"
   ]
  },
  {
   "cell_type": "markdown",
   "metadata": {},
   "source": [
    "It is widely accepted that usually collisions occure at bad light and weather conditions, byt analyse of our data shows the opposite result. The most of collisions with injuries occure at daylight and with Rear ended collision type (Figure 4). The most of collisions with property damage occure at daylight and with Rear ended collision type. Also damage of parked car is quite high (Figure 5). Light conditions and severity code are dependable variables and have moderate correlation (Chi-squared test,p<0.05).\n"
   ]
  },
  {
   "cell_type": "markdown",
   "metadata": {},
   "source": [
    "![](https://raw.githubusercontent.com/AnnaRevutsky/Coursera_Capstone/master/images/Figure%204.png)"
   ]
  },
  {
   "cell_type": "markdown",
   "metadata": {},
   "source": [
    "<div style=\"text-align: center\"> <text> Figure 4. Heat map of relationships between light conditions and collision types</text> </div>"
   ]
  },
  {
   "cell_type": "markdown",
   "metadata": {},
   "source": [
    "![](https://raw.githubusercontent.com/AnnaRevutsky/Coursera_Capstone/master/images/Figure%205.png)"
   ]
  },
  {
   "cell_type": "markdown",
   "metadata": {},
   "source": [
    "<div style=\"text-align: center\"> <text> Figure 5. Heat map of relationships between light conditions and collision types </text> </div>"
   ]
  },
  {
   "cell_type": "markdown",
   "metadata": {},
   "source": [
    "#### 3.3 Relationship between weather and collision types"
   ]
  },
  {
   "cell_type": "markdown",
   "metadata": {},
   "source": [
    "From the heat map below we see that most of collisions with property damage occure at clear weather and with Rear ended and parked car collision types (Figure 6). The most of collisions with injuries occure at clear weather and with Rear ended collision type as well (Figure 7). Weather conditions and severity code are dependable variables and have significant correlation (Chi-squared test,p<0.001)"
   ]
  },
  {
   "cell_type": "markdown",
   "metadata": {},
   "source": [
    "![](https://raw.githubusercontent.com/AnnaRevutsky/Coursera_Capstone/master/images/Figure%206.png)"
   ]
  },
  {
   "cell_type": "markdown",
   "metadata": {},
   "source": [
    "<div style=\"text-align: center\"> <text> Figure 6. Heat map of relationships between weather conditions and collision types</text> </div>"
   ]
  },
  {
   "cell_type": "markdown",
   "metadata": {},
   "source": [
    "![](https://raw.githubusercontent.com/AnnaRevutsky/Coursera_Capstone/master/images/Figure%207.png)"
   ]
  },
  {
   "cell_type": "markdown",
   "metadata": {},
   "source": [
    "<div style=\"text-align: center\"> <text> Figure 7. Heat map of relationships between weather conditions and collision types</text> </div>"
   ]
  },
  {
   "cell_type": "markdown",
   "metadata": {},
   "source": [
    "#### 3.4 Relationship between road conditions and collision types"
   ]
  },
  {
   "cell_type": "markdown",
   "metadata": {},
   "source": [
    "From the heat map below we see that most of collisions with injuries occure on dry road and with Rear ended collision type (Figure 8). The most of collisions with property damage occure on dry road and with Rear ended, parked car collision types (Figure 9). Road conditions and severity code are dependable variables and have significant correlation (Chi-squared test,p<0.001)"
   ]
  },
  {
   "cell_type": "markdown",
   "metadata": {},
   "source": [
    "![](https://raw.githubusercontent.com/AnnaRevutsky/Coursera_Capstone/master/images/Figure%208.png)"
   ]
  },
  {
   "cell_type": "markdown",
   "metadata": {},
   "source": [
    "<div style=\"text-align: center\"> <text> Figure 8. Heat map of relationships between road conditions and collision types</text> </div>"
   ]
  },
  {
   "cell_type": "markdown",
   "metadata": {},
   "source": [
    "![](https://raw.githubusercontent.com/AnnaRevutsky/Coursera_Capstone/master/images/Figure%209.png)"
   ]
  },
  {
   "cell_type": "markdown",
   "metadata": {},
   "source": [
    "<div style=\"text-align: center\"> <text> Figure 9. Heat map of relationships between road conditions and collision types</text> </div>"
   ]
  },
  {
   "cell_type": "markdown",
   "metadata": {},
   "source": [
    "#### 3.5 Relationship between junction type and collision types"
   ]
  },
  {
   "cell_type": "markdown",
   "metadata": {},
   "source": [
    "We see that most of collisions with proerty damage occure on mid-block and not related to intersection and with parked cars (Figure 10). And most of collisions with injuries occure on mid-block and not related to intersection and with rare ended collision type (Figure 11). Junction type and severity code are dependable variables and have significant correlation (Chi-squared test,p<0.001)"
   ]
  },
  {
   "cell_type": "markdown",
   "metadata": {},
   "source": [
    "![](https://raw.githubusercontent.com/AnnaRevutsky/Coursera_Capstone/master/images/Figure%2010.png)"
   ]
  },
  {
   "cell_type": "markdown",
   "metadata": {},
   "source": [
    "<div style=\"text-align: center\"> <text> Figure 10. Heat map of relationships between junction type and collision types</text> </div>"
   ]
  },
  {
   "cell_type": "markdown",
   "metadata": {},
   "source": [
    "![](https://raw.githubusercontent.com/AnnaRevutsky/Coursera_Capstone/master/images/Figure%2011.png)"
   ]
  },
  {
   "cell_type": "markdown",
   "metadata": {},
   "source": [
    "<div style=\"text-align: center\"> <text> Figure 11. Heat map of relationships between junction type and collision types</text> </div>"
   ]
  },
  {
   "cell_type": "markdown",
   "metadata": {},
   "source": [
    "#### 3.6 Relationship between drug/alcohol influence and collision types"
   ]
  },
  {
   "cell_type": "markdown",
   "metadata": {},
   "source": [
    "Would be interesting to explore if a drivers were under influence of alcohol or drugs at a collision. Analysing the data we see that the most of collisions with injuries occure without influence of drugs or alcohol and  with rear ended collision type (Figure 12). And majority of collisions with property damage also occure without influence of drugs or alcohol and  with rear ended and  parked car collision types (Figure 13). 'Influence' and severity code are independable variables and have weak evidence of correlation (Chi-squared test,p>0.1)"
   ]
  },
  {
   "cell_type": "markdown",
   "metadata": {},
   "source": [
    "![](https://raw.githubusercontent.com/AnnaRevutsky/Coursera_Capstone/master/images/Figure%2012.png)"
   ]
  },
  {
   "cell_type": "markdown",
   "metadata": {},
   "source": [
    "<div style=\"text-align: center\"> <text> Figure 12. Heat map of relationships between drug/alcohol influence and collision types</text> </div>"
   ]
  },
  {
   "cell_type": "markdown",
   "metadata": {},
   "source": [
    "![](https://raw.githubusercontent.com/AnnaRevutsky/Coursera_Capstone/master/images/Figure%2013.png)"
   ]
  },
  {
   "cell_type": "markdown",
   "metadata": {},
   "source": [
    "<div style=\"text-align: center\"> <text> Figure 13. Heat map of relationships between drug/alcohol influence and collision types</text> </div>"
   ]
  },
  {
   "cell_type": "markdown",
   "metadata": {},
   "source": [
    "Also I found out strong correlation between dependable variables 'HITPARKEDCAR' and severity code (Chi-squared test,p<0.001), collision types and severoty code (Chi-squared test,p<0.001), address type of collision and severity code (Chi-squared test,p<0.001).\n",
    "\n",
    "I hypothesized that severety code and continuous variables as person count, vehicles, bysicles and pedestrians involved in collisions have a correlations. To know that I used ANOVA test. Calculations showed that severety code has strong correlations with all these varibles (p<0.001)"
   ]
  },
  {
   "cell_type": "markdown",
   "metadata": {},
   "source": [
    "### 4. Predictive Modeling"
   ]
  },
  {
   "cell_type": "markdown",
   "metadata": {},
   "source": [
    "To solve a business task I used one type of models - classification to predict Collisions severity and probability. Despite of Classification models focus on classification problems its they also allow to predict collisions probabilities at certain conditions. The underlying algorithms are similar between regression and classification models. So as our audience is logistic companies, taxi drivers and trevellers, they might be interested on prediction both collisions severity and probability. Also attributes are categorical. Therefore, in this study, I carried out classification modeling for collisions severity and probability prediction."
   ]
  },
  {
   "cell_type": "markdown",
   "metadata": {},
   "source": [
    "#### 4.1 Classification models"
   ]
  },
  {
   "cell_type": "markdown",
   "metadata": {},
   "source": [
    "The application of classification models was straightforward. I divided the samples\n",
    "into two classes (property damage - 1 and injuries - 2). The number of samples in each class were different, dataset was inbalanced so I normalized the data usind StandartScaler(). I chose Jaccard similarity index, Fi-score, recall, precision, confusionn matrix and logarithmic loss as the metrics here because the results are presented with probabilities and logarithmic loss puts more emphasis on the probabilities than other metrics. Logistic regression, SVM, Decision Tree, K-nearest neighbors were tuned and built. Among the individual models, the SVM model performed the best (~68% accuracy), and Logistic regression performed similarly as the SVM model, though the differences between models were small. Below we can see distribution of actual test data and predicted test data for all models individually. Graphs reflect accurasy of prediction (Figure 14-17)."
   ]
  },
  {
   "cell_type": "markdown",
   "metadata": {},
   "source": [
    "![](https://raw.githubusercontent.com/AnnaRevutsky/Coursera_Capstone/master/images/Figure%2014.png)"
   ]
  },
  {
   "cell_type": "markdown",
   "metadata": {},
   "source": [
    "<div style=\"text-align: center\"> <text> Figure 14. Distribution of actual test data and predicted test data for SVM</text> </div>"
   ]
  },
  {
   "cell_type": "markdown",
   "metadata": {},
   "source": [
    "![](https://raw.githubusercontent.com/AnnaRevutsky/Coursera_Capstone/master/images/Figure%2015.png)"
   ]
  },
  {
   "cell_type": "markdown",
   "metadata": {},
   "source": [
    "<div style=\"text-align: center\"> <text> Figure 15. Distribution of actual test data and predicted test data for Logistic regression</text> </div>"
   ]
  },
  {
   "cell_type": "markdown",
   "metadata": {},
   "source": [
    "![](https://raw.githubusercontent.com/AnnaRevutsky/Coursera_Capstone/master/images/Figure%2016.png)"
   ]
  },
  {
   "cell_type": "markdown",
   "metadata": {},
   "source": [
    "<div style=\"text-align: center\"> <text> Figure 16. Distribution of actual test data and predicted test data for Decision Tree</text> </div>"
   ]
  },
  {
   "cell_type": "markdown",
   "metadata": {},
   "source": [
    "![](https://raw.githubusercontent.com/AnnaRevutsky/Coursera_Capstone/master/images/Figure%2017.png)"
   ]
  },
  {
   "cell_type": "markdown",
   "metadata": {},
   "source": [
    "<div style=\"text-align: center\"> <text> Figure 17. Distribution of actual test data and predicted test data for K-nearest neighbor</text> </div>"
   ]
  },
  {
   "cell_type": "markdown",
   "metadata": {},
   "source": [
    "#### 4.1.1 Performances of different models"
   ]
  },
  {
   "cell_type": "markdown",
   "metadata": {},
   "source": [
    "I built logistic regression, SVM, Decision Tree, and K-nearest neighbor using F1-score as the evaluation metric. For each model, hyperparameters were tuned using the same metric. SVM and Logistic regression had the best performance among all models (Table 2)."
   ]
  },
  {
   "cell_type": "markdown",
   "metadata": {},
   "source": [
    "Table 2. Performance of the classification models"
   ]
  },
  {
   "cell_type": "markdown",
   "metadata": {},
   "source": [
    "--- | **SVM** | **Logistic Regression**| **Decision Tree**| **K-nearest neighbors**\n",
    "--- | --- | --- | --- | --- \n",
    "**F1-score** | 0.68 | 0.68 | 0.62 | 0.67\n"
   ]
  },
  {
   "cell_type": "markdown",
   "metadata": {},
   "source": [
    "Also I evaluated probability prediction accuracy using log loss (Table 3)."
   ]
  },
  {
   "cell_type": "markdown",
   "metadata": {},
   "source": [
    "Table 3. Performance of classification models"
   ]
  },
  {
   "cell_type": "markdown",
   "metadata": {},
   "source": [
    "--- | **SVM** | **Logistic Regression**| **Decision Tree**| **K-nearest neighbors**\n",
    "--- | --- | --- | --- | --- \n",
    "**Log Loss**| 0.59 | 0.54 | 0.57 | 1.77\n",
    "**Jaccard Similarity Index**| 0.71 | 0.71 | 0.70 | 0.69\n",
    "**No. of True Negatives**| 5012 | 4994 | 5356 | 4827 \n",
    "**No. of False Positives**| 393 | 411| 49 | 578\n",
    "**No. of False Negatives**| 2015| 2002| 2488| 1978\n",
    "**No. of True Positives**| 953| 966|480| 990"
   ]
  },
  {
   "cell_type": "markdown",
   "metadata": {},
   "source": [
    "As seen Logistic Regression is the best model for probability prediction"
   ]
  },
  {
   "cell_type": "markdown",
   "metadata": {},
   "source": [
    "I also evaluated the models using their ROC curves. In this particular problem, higher true positive rate is more important than lower false positive rate. In other words, it is more important\n",
    "to be sure that all collision will be predicted, rather than predict severity of particular collision more accuarate. In the ROC curves\n",
    "with low false-positive rate, the Logistic Regression model had slightly higher true positive rates than other\n",
    "models and it has less area under the curve (AUC=0.24), what is the best parameter in our case (Figure 18)."
   ]
  },
  {
   "cell_type": "markdown",
   "metadata": {},
   "source": [
    "![](https://raw.githubusercontent.com/AnnaRevutsky/Coursera_Capstone/master/images/Figure%2018.png)"
   ]
  },
  {
   "cell_type": "markdown",
   "metadata": {},
   "source": [
    "<div style=\"text-align: center\"> <text> Figure 18. ROC curves of different classification models </text> </div> "
   ]
  },
  {
   "cell_type": "markdown",
   "metadata": {},
   "source": [
    "### 5. Conclusions"
   ]
  },
  {
   "cell_type": "markdown",
   "metadata": {},
   "source": [
    "In this study, I analyzed the relationship between collisions severity and weather, road, light conditions, junction type and number of people involved in collisions. I identified collision type, junction type among the most important features that affect a collision severity. I built classification models to predict severity and probability collisions. These models can be very useful for transportation and logistics companies, people who travel by car, taxi drivers, ordinary car drivers in reducing risk of collisions, property damage and people death."
   ]
  },
  {
   "cell_type": "markdown",
   "metadata": {},
   "source": [
    "### 6. Future directions"
   ]
  },
  {
   "cell_type": "markdown",
   "metadata": {},
   "source": [
    "I was able to achieve ~68% accuracy in the classification problem. However, there was still significant variance that could not be predicted by the models in this study. I think the models could use more or other features as speeding, car make, car conditions etc. For example, bad car conditions or old car model may be less secure than anew one at good conditions with many sensors and even auto pilot function that helps to prevent a collision or reduce severity. More data, especially data of different address types of collision, influencing factors on a driver would help improve model performances.\n"
   ]
  }
 ],
 "metadata": {
  "kernelspec": {
   "display_name": "Python",
   "language": "python",
   "name": "conda-env-python-py"
  },
  "language_info": {
   "codemirror_mode": {
    "name": "ipython",
    "version": 3
   },
   "file_extension": ".py",
   "mimetype": "text/x-python",
   "name": "python",
   "nbconvert_exporter": "python",
   "pygments_lexer": "ipython3",
   "version": "3.6.11"
  }
 },
 "nbformat": 4,
 "nbformat_minor": 4
}
